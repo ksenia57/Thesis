{
 "cells": [
  {
   "cell_type": "code",
   "execution_count": 98,
   "metadata": {},
   "outputs": [],
   "source": [
    "import numpy as np\n",
    "import pandas as pd\n",
    "import seaborn as sns\n",
    "import matplotlib.pyplot as plt\n",
    "%matplotlib inline \n",
    "sns.set(style=\"ticks\")\n",
    "import re\n",
    "import nltk\n",
    "from nltk.corpus import stopwords\n",
    "import pymorphy2\n",
    "from IPython.display import Image"
   ]
  },
  {
   "cell_type": "code",
   "execution_count": 99,
   "metadata": {},
   "outputs": [],
   "source": [
    "#!pip install pymorphy2"
   ]
  },
  {
   "cell_type": "code",
   "execution_count": 100,
   "metadata": {},
   "outputs": [],
   "source": [
    "import sys"
   ]
  },
  {
   "cell_type": "code",
   "execution_count": 101,
   "metadata": {},
   "outputs": [
    {
     "data": {
      "text/plain": [
       "'3.9.12 (main, Apr  4 2022, 05:22:27) [MSC v.1916 64 bit (AMD64)]'"
      ]
     },
     "execution_count": 101,
     "metadata": {},
     "output_type": "execute_result"
    }
   ],
   "source": [
    "sys.version"
   ]
  },
  {
   "cell_type": "markdown",
   "metadata": {},
   "source": [
    "### Загрузка и первичный анализ данных"
   ]
  },
  {
   "cell_type": "markdown",
   "metadata": {},
   "source": [
    "Используем данные с сайта Book24"
   ]
  },
  {
   "cell_type": "code",
   "execution_count": 102,
   "metadata": {},
   "outputs": [],
   "source": [
    "data = pd.read_csv('data/datanorepeat.csv')"
   ]
  },
  {
   "cell_type": "code",
   "execution_count": 103,
   "metadata": {},
   "outputs": [
    {
     "data": {
      "text/plain": [
       "(12082, 10)"
      ]
     },
     "execution_count": 103,
     "metadata": {},
     "output_type": "execute_result"
    }
   ],
   "source": [
    "data.shape"
   ]
  },
  {
   "cell_type": "code",
   "execution_count": 104,
   "metadata": {},
   "outputs": [
    {
     "data": {
      "text/plain": [
       "name            object\n",
       "author          object\n",
       "section         object\n",
       "publish         object\n",
       "age             object\n",
       "year           float64\n",
       "pages          float64\n",
       "rating          object\n",
       "cove            object\n",
       "description     object\n",
       "dtype: object"
      ]
     },
     "execution_count": 104,
     "metadata": {},
     "output_type": "execute_result"
    }
   ],
   "source": [
    "data.dtypes"
   ]
  },
  {
   "cell_type": "code",
   "execution_count": 105,
   "metadata": {},
   "outputs": [
    {
     "data": {
      "text/plain": [
       "name              1\n",
       "author         1382\n",
       "section           0\n",
       "publish        1496\n",
       "age             321\n",
       "year            196\n",
       "pages           278\n",
       "rating            0\n",
       "cove              0\n",
       "description      22\n",
       "dtype: int64"
      ]
     },
     "execution_count": 105,
     "metadata": {},
     "output_type": "execute_result"
    }
   ],
   "source": [
    "data.isnull().sum()"
   ]
  },
  {
   "cell_type": "code",
   "execution_count": 106,
   "metadata": {},
   "outputs": [],
   "source": [
    "test= data.author.fillna(0)\n"
   ]
  },
  {
   "cell_type": "code",
   "execution_count": 107,
   "metadata": {},
   "outputs": [
    {
     "data": {
      "text/plain": [
       "11000    Доценко Виктор Николаевич\n",
       "11001         Герберт Джордж Уэллс\n",
       "11002            Виктория Токарева\n",
       "11003                    Жорж Санд\n",
       "11004                            0\n",
       "                   ...            \n",
       "11095                Михаил Михеев\n",
       "11096                   Влад Савин\n",
       "11097              Кристофер Прист\n",
       "11098                   Юрий Буйда\n",
       "11099             Виктория Платова\n",
       "Name: author, Length: 100, dtype: object"
      ]
     },
     "execution_count": 107,
     "metadata": {},
     "output_type": "execute_result"
    }
   ],
   "source": [
    "test[11000:11100]"
   ]
  },
  {
   "cell_type": "markdown",
   "metadata": {},
   "source": [
    "Удалим \"ненужные\" книги"
   ]
  },
  {
   "cell_type": "code",
   "execution_count": 108,
   "metadata": {},
   "outputs": [
    {
     "data": {
      "text/plain": [
       "(12082, 10)"
      ]
     },
     "execution_count": 108,
     "metadata": {},
     "output_type": "execute_result"
    }
   ],
   "source": [
    "data7 = data\n",
    "data7.shape"
   ]
  },
  {
   "cell_type": "code",
   "execution_count": 109,
   "metadata": {},
   "outputs": [],
   "source": [
    "data7 = data7.dropna()"
   ]
  },
  {
   "cell_type": "code",
   "execution_count": 110,
   "metadata": {},
   "outputs": [
    {
     "data": {
      "text/plain": [
       "name           0\n",
       "author         0\n",
       "section        0\n",
       "publish        0\n",
       "age            0\n",
       "year           0\n",
       "pages          0\n",
       "rating         0\n",
       "cove           0\n",
       "description    0\n",
       "dtype: int64"
      ]
     },
     "execution_count": 110,
     "metadata": {},
     "output_type": "execute_result"
    }
   ],
   "source": [
    "data7.isnull().sum()"
   ]
  },
  {
   "cell_type": "code",
   "execution_count": 111,
   "metadata": {},
   "outputs": [
    {
     "data": {
      "text/plain": [
       "(9792, 10)"
      ]
     },
     "execution_count": 111,
     "metadata": {},
     "output_type": "execute_result"
    }
   ],
   "source": [
    "data7.shape"
   ]
  },
  {
   "cell_type": "code",
   "execution_count": 112,
   "metadata": {},
   "outputs": [],
   "source": [
    "data = data7"
   ]
  },
  {
   "cell_type": "code",
   "execution_count": 113,
   "metadata": {},
   "outputs": [],
   "source": [
    "list = data['section'].unique()\n",
    "delete = []\n",
    "for i in range(data['section'].unique().shape[0]):\n",
    "    if data[(data.section == list[i])].shape[0] < 5:\n",
    "        delete.append(list[i])\n",
    "list = ['NaN', 'Книги на английском языке', 'Артбуки', 'Восточная философия', 'Книги на других языках', \n",
    "        'Биографии. Мемуары', 'Книги на немецком языке', 'Пословицы и поговорки', 'Деятели культуры и искусства',\n",
    "        'Книги на французском языке', 'Проза', 'Зарубежный юмор', 'Поэзия', 'Стимпанк', 'Манга', 'Классическая поэзия', \n",
    "        'Популярная психология', 'Комиксы', 'Современная поэзия', 'Афоризмы']\n",
    "for i in range(len(list)):\n",
    "    delete.append(list[i])"
   ]
  },
  {
   "cell_type": "code",
   "execution_count": 114,
   "metadata": {},
   "outputs": [
    {
     "data": {
      "text/plain": [
       "63"
      ]
     },
     "execution_count": 114,
     "metadata": {},
     "output_type": "execute_result"
    }
   ],
   "source": [
    "len(delete)"
   ]
  },
  {
   "cell_type": "code",
   "execution_count": 115,
   "metadata": {},
   "outputs": [
    {
     "data": {
      "text/plain": [
       "(9070, 10)"
      ]
     },
     "execution_count": 115,
     "metadata": {},
     "output_type": "execute_result"
    }
   ],
   "source": [
    "for i in range(len(delete)):\n",
    "    list = data[(data.section == delete[i])].index\n",
    "    data = data.drop(index=list)\n",
    "data.shape"
   ]
  },
  {
   "cell_type": "code",
   "execution_count": 116,
   "metadata": {},
   "outputs": [
    {
     "data": {
      "text/plain": [
       "68"
      ]
     },
     "execution_count": 116,
     "metadata": {},
     "output_type": "execute_result"
    }
   ],
   "source": [
    "data['section'].unique().shape[0]"
   ]
  },
  {
   "cell_type": "code",
   "execution_count": 117,
   "metadata": {},
   "outputs": [
    {
     "data": {
      "text/plain": [
       "array(['Новеллизации', 'Современные любовные романы',\n",
       "       'Социальная фантастика', 'Зарубежные детективы', 'Антиутопия',\n",
       "       'Русское фэнтези', 'Классическая зарубежная литература',\n",
       "       'Любовное фэнтези', 'Зарубежное фэнтези',\n",
       "       'Современная зарубежная проза', 'Русская сентиментальная проза',\n",
       "       'Героическое фэнтези', 'Современная русская проза', 'Триллеры',\n",
       "       'Книги про вампиров', 'Историческая проза',\n",
       "       'Классическая русская литература', 'Героическая фантастика',\n",
       "       'Зарубежные любовные романы', 'Научная фантастика',\n",
       "       'Зарубежная сентиментальная проза',\n",
       "       'Фантастика и фэнтези для подростков',\n",
       "       'Остросюжетные любовные романы', 'Ужасы. Мистика', 'Киберпанк',\n",
       "       'Классические детективы', 'Зарубежная фантастика',\n",
       "       'Боевая фантастика', 'Городское фэнтези', 'Юмористическое фэнтези',\n",
       "       'Комиксы для детей', 'Постапокалипсис', 'Темное фэнтези',\n",
       "       'Космическая фантастика', 'Графические романы',\n",
       "       'Интеллектуальная проза', 'Современные детективы',\n",
       "       'Боевое фэнтези', 'Книги про волшебников',\n",
       "       'Юмористическая фантастика', 'Мифы и легенды',\n",
       "       'Альтернативная история', 'Русская драматургия',\n",
       "       'Исторические любовные романы', 'Исторические детективы',\n",
       "       'Иронические детективы', 'Историческое фэнтези',\n",
       "       'Магические академии', 'Русские детективы',\n",
       "       'Зарубежная драматургия', 'Фантастика и фэнтези',\n",
       "       'Фэнтези про драконов', 'Классика приключений',\n",
       "       'Детективное фэнтези', 'Попаданцы', 'Детективная фантастика',\n",
       "       'Полицейские детективы', 'Историческая фантастика',\n",
       "       'Шпионские детективы', 'Политические детективы',\n",
       "       'Исторические приключения', 'Русские боевики',\n",
       "       'Зарубежные боевики', 'Военные боевики', 'Юмористическая проза',\n",
       "       'Эзотерические художественные книги', 'Криминальные боевики',\n",
       "       'Любовно-фантастические романы'], dtype=object)"
      ]
     },
     "execution_count": 117,
     "metadata": {},
     "output_type": "execute_result"
    }
   ],
   "source": [
    "data['section'].unique()"
   ]
  },
  {
   "cell_type": "code",
   "execution_count": 118,
   "metadata": {},
   "outputs": [
    {
     "data": {
      "text/html": [
       "<div>\n",
       "<style scoped>\n",
       "    .dataframe tbody tr th:only-of-type {\n",
       "        vertical-align: middle;\n",
       "    }\n",
       "\n",
       "    .dataframe tbody tr th {\n",
       "        vertical-align: top;\n",
       "    }\n",
       "\n",
       "    .dataframe thead th {\n",
       "        text-align: right;\n",
       "    }\n",
       "</style>\n",
       "<table border=\"1\" class=\"dataframe\">\n",
       "  <thead>\n",
       "    <tr style=\"text-align: right;\">\n",
       "      <th></th>\n",
       "      <th>name</th>\n",
       "      <th>author</th>\n",
       "      <th>section</th>\n",
       "      <th>publish</th>\n",
       "      <th>age</th>\n",
       "      <th>year</th>\n",
       "      <th>pages</th>\n",
       "      <th>rating</th>\n",
       "      <th>cove</th>\n",
       "      <th>description</th>\n",
       "    </tr>\n",
       "  </thead>\n",
       "  <tbody>\n",
       "    <tr>\n",
       "      <th>0</th>\n",
       "      <td>Благословение небожителей. Том 2</td>\n",
       "      <td>Тунсю Мосян</td>\n",
       "      <td>Новеллизации</td>\n",
       "      <td>Эксмо</td>\n",
       "      <td>18+</td>\n",
       "      <td>2022.0</td>\n",
       "      <td>432.0</td>\n",
       "      <td>5</td>\n",
       "      <td>https://ndc.book24.ru/resize/410x590/iblock/a5...</td>\n",
       "      <td>Всё в этом мире имеет счёт: и удача, и невезен...</td>\n",
       "    </tr>\n",
       "    <tr>\n",
       "      <th>1</th>\n",
       "      <td>Благословение небожителей. Том 1</td>\n",
       "      <td>Тунсю Мосян</td>\n",
       "      <td>Новеллизации</td>\n",
       "      <td>Эксмо</td>\n",
       "      <td>16+</td>\n",
       "      <td>2022.0</td>\n",
       "      <td>416.0</td>\n",
       "      <td>4,9</td>\n",
       "      <td>https://ndc.book24.ru/resize/410x590/iblock/ac...</td>\n",
       "      <td>В незапамятные времена Се Лянь был наследным п...</td>\n",
       "    </tr>\n",
       "    <tr>\n",
       "      <th>2</th>\n",
       "      <td>Лето в пионерском галстуке</td>\n",
       "      <td>Сильванова Катерина</td>\n",
       "      <td>Современные любовные романы</td>\n",
       "      <td>Popcorn Books</td>\n",
       "      <td>18+</td>\n",
       "      <td>2021.0</td>\n",
       "      <td>544.0</td>\n",
       "      <td>4,9</td>\n",
       "      <td>https://ndc.book24.ru/resize/410x590/iblock/25...</td>\n",
       "      <td>Юра возвращается в пионерский лагерь своей юно...</td>\n",
       "    </tr>\n",
       "    <tr>\n",
       "      <th>3</th>\n",
       "      <td>Электрошок. Внезапно</td>\n",
       "      <td>Сергей Тармашев</td>\n",
       "      <td>Социальная фантастика</td>\n",
       "      <td>АСТ</td>\n",
       "      <td>16+</td>\n",
       "      <td>2022.0</td>\n",
       "      <td>352.0</td>\n",
       "      <td>5</td>\n",
       "      <td>https:https://cdn.book24.ru/v2/ASE000000000863...</td>\n",
       "      <td>Новая книга от автора культовых циклов «Древни...</td>\n",
       "    </tr>\n",
       "    <tr>\n",
       "      <th>4</th>\n",
       "      <td>Билли Саммерс</td>\n",
       "      <td>Стивен Кинг</td>\n",
       "      <td>Зарубежные детективы</td>\n",
       "      <td>АСТ</td>\n",
       "      <td>16+</td>\n",
       "      <td>2022.0</td>\n",
       "      <td>544.0</td>\n",
       "      <td>4,4</td>\n",
       "      <td>https://ndc.book24.ru/resize/410x590/iblock/a2...</td>\n",
       "      <td>Новый увлекательный роман от автора культовых ...</td>\n",
       "    </tr>\n",
       "  </tbody>\n",
       "</table>\n",
       "</div>"
      ],
      "text/plain": [
       "                                name               author  \\\n",
       "0  Благословение небожителей. Том 2           Тунсю Мосян   \n",
       "1  Благословение небожителей. Том 1           Тунсю Мосян   \n",
       "2        Лето в пионерском галстуке   Сильванова Катерина   \n",
       "3              Электрошок. Внезапно       Сергей Тармашев   \n",
       "4                     Билли Саммерс           Стивен Кинг   \n",
       "\n",
       "                       section        publish    age    year  pages rating  \\\n",
       "0                 Новеллизации          Эксмо   18+   2022.0  432.0     5    \n",
       "1                 Новеллизации          Эксмо   16+   2022.0  416.0   4,9    \n",
       "2  Современные любовные романы  Popcorn Books   18+   2021.0  544.0   4,9    \n",
       "3        Социальная фантастика            АСТ   16+   2022.0  352.0     5    \n",
       "4         Зарубежные детективы            АСТ   16+   2022.0  544.0   4,4    \n",
       "\n",
       "                                                cove  \\\n",
       "0  https://ndc.book24.ru/resize/410x590/iblock/a5...   \n",
       "1  https://ndc.book24.ru/resize/410x590/iblock/ac...   \n",
       "2  https://ndc.book24.ru/resize/410x590/iblock/25...   \n",
       "3  https:https://cdn.book24.ru/v2/ASE000000000863...   \n",
       "4  https://ndc.book24.ru/resize/410x590/iblock/a2...   \n",
       "\n",
       "                                         description  \n",
       "0  Всё в этом мире имеет счёт: и удача, и невезен...  \n",
       "1  В незапамятные времена Се Лянь был наследным п...  \n",
       "2  Юра возвращается в пионерский лагерь своей юно...  \n",
       "3  Новая книга от автора культовых циклов «Древни...  \n",
       "4  Новый увлекательный роман от автора культовых ...  "
      ]
     },
     "execution_count": 118,
     "metadata": {},
     "output_type": "execute_result"
    }
   ],
   "source": [
    "data.head()"
   ]
  },
  {
   "cell_type": "code",
   "execution_count": 119,
   "metadata": {},
   "outputs": [
    {
     "data": {
      "text/plain": [
       "name                                        Чудовище и чудовища \n",
       "author                                          Барбара Морриган\n",
       "section                                       Зарубежное фэнтези\n",
       "publish                                                    Эксмо\n",
       "age                                                         18+ \n",
       "year                                                      2020.0\n",
       "pages                                                      448.0\n",
       "rating                                                      4,4 \n",
       "cove           https:https://cdn.book24.ru/v2/ITD000000001045...\n",
       "description    Такута — патологоанатом. Неплохая профессия дл...\n",
       "Name: 43, dtype: object"
      ]
     },
     "execution_count": 119,
     "metadata": {},
     "output_type": "execute_result"
    }
   ],
   "source": [
    "data.iloc[42]"
   ]
  },
  {
   "cell_type": "code",
   "execution_count": 120,
   "metadata": {},
   "outputs": [
    {
     "data": {
      "text/plain": [
       "(9070, 10)"
      ]
     },
     "execution_count": 120,
     "metadata": {},
     "output_type": "execute_result"
    }
   ],
   "source": [
    "data.shape"
   ]
  },
  {
   "cell_type": "code",
   "execution_count": 121,
   "metadata": {},
   "outputs": [],
   "source": [
    "#data.to_csv(r'C:\\Users\\kenia\\Thesis\\data\\dataclean.csv', index=False)"
   ]
  },
  {
   "cell_type": "markdown",
   "metadata": {},
   "source": [
    "### Гистограммы по признакам"
   ]
  },
  {
   "cell_type": "code",
   "execution_count": 122,
   "metadata": {},
   "outputs": [],
   "source": [
    "data = pd.read_csv('data/dataclean.csv')"
   ]
  },
  {
   "cell_type": "code",
   "execution_count": 123,
   "metadata": {},
   "outputs": [
    {
     "data": {
      "text/plain": [
       "<AxesSubplot:>"
      ]
     },
     "execution_count": 123,
     "metadata": {},
     "output_type": "execute_result"
    },
    {
     "data": {
      "image/png": "[encoded data removed]",
      "text/plain": [
       "<Figure size 1584x504 with 1 Axes>"
      ]
     },
     "metadata": {},
     "output_type": "display_data"
    }
   ],
   "source": [
    "# Genre distribution\n",
    "data['section'].value_counts().plot(x ='count', y = 'section', kind = 'bar', figsize = (22,7))"
   ]
  },
  {
   "cell_type": "code",
   "execution_count": 124,
   "metadata": {},
   "outputs": [
    {
     "data": {
      "text/plain": [
       "(9070, 10)"
      ]
     },
     "execution_count": 124,
     "metadata": {},
     "output_type": "execute_result"
    }
   ],
   "source": [
    "data.shape"
   ]
  },
  {
   "cell_type": "code",
   "execution_count": 125,
   "metadata": {},
   "outputs": [
    {
     "data": {
      "text/plain": [
       "9070"
      ]
     },
     "execution_count": 125,
     "metadata": {},
     "output_type": "execute_result"
    }
   ],
   "source": [
    "data.shape[0]"
   ]
  },
  {
   "cell_type": "code",
   "execution_count": 126,
   "metadata": {},
   "outputs": [
    {
     "data": {
      "text/plain": [
       "'Тунсю Мосян'"
      ]
     },
     "execution_count": 126,
     "metadata": {},
     "output_type": "execute_result"
    }
   ],
   "source": [
    "data.author[1]"
   ]
  },
  {
   "cell_type": "code",
   "execution_count": 127,
   "metadata": {},
   "outputs": [
    {
     "data": {
      "text/plain": [
       "'ТунсюМосян'"
      ]
     },
     "execution_count": 127,
     "metadata": {},
     "output_type": "execute_result"
    }
   ],
   "source": [
    "re.sub(\" \",\"\", data.author[1])"
   ]
  },
  {
   "cell_type": "code",
   "execution_count": 128,
   "metadata": {},
   "outputs": [],
   "source": [
    "author_new = []\n",
    "for i in data.index:\n",
    "    author_new.append(re.sub(\" \",\"\", data.author[i]))"
   ]
  },
  {
   "cell_type": "code",
   "execution_count": 129,
   "metadata": {},
   "outputs": [
    {
     "data": {
      "text/plain": [
       "9070"
      ]
     },
     "execution_count": 129,
     "metadata": {},
     "output_type": "execute_result"
    }
   ],
   "source": [
    "len(data.index)"
   ]
  },
  {
   "cell_type": "code",
   "execution_count": 130,
   "metadata": {},
   "outputs": [
    {
     "data": {
      "text/plain": [
       "'\\npublish_new = []\\nfor i in data.index:\\n    publish_new.append(re.sub(\" \",\"\", data.publish[i]))\\n'"
      ]
     },
     "execution_count": 130,
     "metadata": {},
     "output_type": "execute_result"
    }
   ],
   "source": [
    "'''\n",
    "publish_new = []\n",
    "for i in data.index:\n",
    "    publish_new.append(re.sub(\" \",\"\", data.publish[i]))\n",
    "'''"
   ]
  },
  {
   "cell_type": "code",
   "execution_count": 131,
   "metadata": {},
   "outputs": [],
   "source": [
    "description_new = []\n",
    "for i in data.index:\n",
    "    description_new.append(data.description[i])\n",
    "for i in range(len(description_new)):\n",
    "    description_new[i] = re.sub(\"[^А-Яа-я, ё, \\n, -]\", \"\", description_new[i])\n",
    "    description_new[i] = description_new[i].lower()\n",
    "    description_new[i] = re.sub(\",\", \"\", description_new[i])\n",
    "    description_new[i] = re.sub(\"\\n\", \" \", description_new[i])"
   ]
  },
  {
   "cell_type": "code",
   "execution_count": 132,
   "metadata": {},
   "outputs": [
    {
     "data": {
      "text/plain": [
       "'Первый роман молодой американской писательницы Ли Бардуго «Тень и кость» вышел в 2012 году и сразу же пополнил ряды бестселлеров «New York Times»: вселенная магов-гришей моментально покорила сердца читателей! Абсолютно новый мир, продуманный до мелочей и наполненный мистикой и жестокой борьбой за власть, можно сравнить разве что с «Игрой престолов». Изданные в 2013 и 2014 годах продолжения цикла также стали хитами  продаж и окончательно утвердили Бардуго в статусе автора одной из самых  ярких фэнтези-эпопей десятилетия. Права на экранизацию купила студия DreamWorks, и, возможно, в ближайшем будущем  образы главных героев трилогии  воплотят на экране лучшие голливудские актеры!  «Шестерка воронов» - следующая глава в истории этого мира. Судьба  и будущее могущественной нации гришей внезапно оказывается в руках  хладнокровного бандита Каза Бреккера и его команды. Кто они? У каждого из них свои секреты, которые они тщательно оберегают даже друг от друга... Их ждут опасные приключения, головокружительные пейзажи, жуткие монстры и древняя магия. Вселенная гришей становится шире и открывается  в новых потрясающих подробностях! Одной книжкой здесь не обойтись. Продолжение обязательно будет!'"
      ]
     },
     "execution_count": 132,
     "metadata": {},
     "output_type": "execute_result"
    }
   ],
   "source": [
    "data.description[9]"
   ]
  },
  {
   "cell_type": "code",
   "execution_count": 133,
   "metadata": {},
   "outputs": [
    {
     "data": {
      "text/plain": [
       "'первый роман молодой американской писательницы ли бардуго тень и кость вышел в  году и сразу же пополнил ряды бестселлеров    вселенная магов-гришей моментально покорила сердца читателей абсолютно новый мир продуманный до мелочей и наполненный мистикой и жестокой борьбой за власть можно сравнить разве что с игрой престолов изданные в  и  годах продолжения цикла также стали хитами  продаж и окончательно утвердили бардуго в статусе автора одной из самых  ярких фэнтези-эпопей десятилетия права на экранизацию купила студия  и возможно в ближайшем будущем  образы главных героев трилогии  воплотят на экране лучшие голливудские актеры  шестерка воронов - следующая глава в истории этого мира судьба  и будущее могущественной нации гришей внезапно оказывается в руках  хладнокровного бандита каза бреккера и его команды кто они у каждого из них свои секреты которые они тщательно оберегают даже друг от друга их ждут опасные приключения головокружительные пейзажи жуткие монстры и древняя магия вселенная гришей становится шире и открывается  в новых потрясающих подробностях одной книжкой здесь не обойтись продолжение обязательно будет'"
      ]
     },
     "execution_count": 133,
     "metadata": {},
     "output_type": "execute_result"
    }
   ],
   "source": [
    "description_new[9]"
   ]
  },
  {
   "cell_type": "code",
   "execution_count": 134,
   "metadata": {},
   "outputs": [],
   "source": [
    "data['tags'] = data.apply(lambda _: '', axis=1)"
   ]
  },
  {
   "cell_type": "code",
   "execution_count": 135,
   "metadata": {},
   "outputs": [],
   "source": [
    "description_new = pd.DataFrame(description_new)"
   ]
  },
  {
   "cell_type": "code",
   "execution_count": 136,
   "metadata": {},
   "outputs": [],
   "source": [
    "#publish_new = pd.DataFrame(publish_new)"
   ]
  },
  {
   "cell_type": "code",
   "execution_count": 137,
   "metadata": {},
   "outputs": [],
   "source": [
    "data['foo'] = data.apply(lambda _: ' ', axis=1)"
   ]
  },
  {
   "cell_type": "markdown",
   "metadata": {},
   "source": [
    "#### Pymorphy2 - приведение к начальной форме с леммотизацией"
   ]
  },
  {
   "cell_type": "code",
   "execution_count": 138,
   "metadata": {},
   "outputs": [],
   "source": [
    "morph = pymorphy2.MorphAnalyzer()"
   ]
  },
  {
   "cell_type": "code",
   "execution_count": 139,
   "metadata": {},
   "outputs": [],
   "source": [
    "def parse(text):\n",
    "    y = []\n",
    "    \n",
    "    for i in text.split():\n",
    "        y.append(morph.parse(i)[0].normal_form)\n",
    "        \n",
    "    return \" \".join(y)"
   ]
  },
  {
   "cell_type": "code",
   "execution_count": 140,
   "metadata": {},
   "outputs": [
    {
     "data": {
      "text/plain": [
       "'возвращаться'"
      ]
     },
     "execution_count": 140,
     "metadata": {},
     "output_type": "execute_result"
    }
   ],
   "source": [
    "morph.parse('возвращается')[0].normal_form"
   ]
  },
  {
   "cell_type": "code",
   "execution_count": 141,
   "metadata": {},
   "outputs": [
    {
     "data": {
      "text/plain": [
       "'первый роман молодой американской писательницы ли бардуго тень и кость вышел в  году и сразу же пополнил ряды бестселлеров    вселенная магов-гришей моментально покорила сердца читателей абсолютно новый мир продуманный до мелочей и наполненный мистикой и жестокой борьбой за власть можно сравнить разве что с игрой престолов изданные в  и  годах продолжения цикла также стали хитами  продаж и окончательно утвердили бардуго в статусе автора одной из самых  ярких фэнтези-эпопей десятилетия права на экранизацию купила студия  и возможно в ближайшем будущем  образы главных героев трилогии  воплотят на экране лучшие голливудские актеры  шестерка воронов - следующая глава в истории этого мира судьба  и будущее могущественной нации гришей внезапно оказывается в руках  хладнокровного бандита каза бреккера и его команды кто они у каждого из них свои секреты которые они тщательно оберегают даже друг от друга их ждут опасные приключения головокружительные пейзажи жуткие монстры и древняя магия вселенная гришей становится шире и открывается  в новых потрясающих подробностях одной книжкой здесь не обойтись продолжение обязательно будет'"
      ]
     },
     "execution_count": 141,
     "metadata": {},
     "output_type": "execute_result"
    }
   ],
   "source": [
    "description_new[0][9]"
   ]
  },
  {
   "cell_type": "code",
   "execution_count": 142,
   "metadata": {},
   "outputs": [
    {
     "data": {
      "text/plain": [
       "'шестёрка воронов - следующий глава в история это мир судьба и будущее могущественный нация гриша внезапно оказываться в рука хладнокровный бандит каз бреккер и он команда'"
      ]
     },
     "execution_count": 142,
     "metadata": {},
     "output_type": "execute_result"
    }
   ],
   "source": [
    "parse('шестерка воронов - следующая глава в истории этого мира судьба  и будущее могущественной нации гришей внезапно оказывается в руках  хладнокровного бандита каза бреккера и его команды')"
   ]
  },
  {
   "cell_type": "code",
   "execution_count": null,
   "metadata": {},
   "outputs": [],
   "source": [
    "abc = []\n",
    "for i in range(len(description_new[0])):\n",
    "    abc.append(parse(description_new[0][i]))"
   ]
  },
  {
   "cell_type": "code",
   "execution_count": null,
   "metadata": {},
   "outputs": [],
   "source": [
    "abc"
   ]
  },
  {
   "cell_type": "code",
   "execution_count": null,
   "metadata": {},
   "outputs": [],
   "source": [
    "abc[9]"
   ]
  },
  {
   "cell_type": "code",
   "execution_count": null,
   "metadata": {},
   "outputs": [],
   "source": [
    "for i in range(len(description_new[0])):\n",
    "    description_new[0][i] = abc[i]"
   ]
  },
  {
   "cell_type": "code",
   "execution_count": null,
   "metadata": {},
   "outputs": [],
   "source": [
    "data['tags'] = description_new[0] + data['foo'] + data['section'] #+ publish_new[0] "
   ]
  },
  {
   "cell_type": "code",
   "execution_count": null,
   "metadata": {
    "scrolled": true
   },
   "outputs": [],
   "source": [
    "data.head()"
   ]
  },
  {
   "cell_type": "code",
   "execution_count": null,
   "metadata": {},
   "outputs": [],
   "source": [
    "data[7220:]"
   ]
  },
  {
   "cell_type": "code",
   "execution_count": null,
   "metadata": {},
   "outputs": [],
   "source": [
    "data.tags[0]"
   ]
  },
  {
   "cell_type": "markdown",
   "metadata": {},
   "source": [
    "#### выгружаем"
   ]
  },
  {
   "cell_type": "code",
   "execution_count": null,
   "metadata": {},
   "outputs": [],
   "source": [
    "new_df = data[['name', 'tags']]\n",
    "new_df"
   ]
  },
  {
   "cell_type": "code",
   "execution_count": null,
   "metadata": {},
   "outputs": [],
   "source": []
  },
  {
   "cell_type": "markdown",
   "metadata": {},
   "source": [
    "### Research"
   ]
  },
  {
   "cell_type": "code",
   "execution_count": 59,
   "metadata": {},
   "outputs": [],
   "source": [
    "from sklearn.feature_extraction.text import CountVectorizer\n",
    "cv = CountVectorizer(encoding='utf-8',stop_words=stopwords.words(\"russian\"))"
   ]
  },
  {
   "cell_type": "code",
   "execution_count": 60,
   "metadata": {},
   "outputs": [],
   "source": [
    "vectors = cv.fit_transform(data['tags'].values.astype('U')).toarray()"
   ]
  },
  {
   "cell_type": "code",
   "execution_count": 61,
   "metadata": {},
   "outputs": [
    {
     "data": {
      "text/plain": [
       "array([[0, 0, 0, ..., 0, 0, 0],\n",
       "       [0, 0, 0, ..., 0, 0, 0],\n",
       "       [0, 0, 0, ..., 0, 0, 0],\n",
       "       ...,\n",
       "       [0, 0, 0, ..., 0, 0, 0],\n",
       "       [0, 0, 0, ..., 0, 0, 0],\n",
       "       [0, 0, 0, ..., 0, 0, 0]], dtype=int64)"
      ]
     },
     "execution_count": 61,
     "metadata": {},
     "output_type": "execute_result"
    }
   ],
   "source": [
    "vectors"
   ]
  },
  {
   "cell_type": "code",
   "execution_count": 62,
   "metadata": {},
   "outputs": [
    {
     "data": {
      "text/plain": [
       "array([0, 0, 0, ..., 0, 0, 0], dtype=int64)"
      ]
     },
     "execution_count": 62,
     "metadata": {},
     "output_type": "execute_result"
    }
   ],
   "source": [
    "vectors[0]"
   ]
  },
  {
   "cell_type": "code",
   "execution_count": 63,
   "metadata": {},
   "outputs": [
    {
     "data": {
      "text/plain": [
       "['000',\n",
       " '000экземпляр',\n",
       " '006',\n",
       " '10',\n",
       " '100',\n",
       " '1000',\n",
       " '100000',\n",
       " '1001',\n",
       " '100ть',\n",
       " '102',\n",
       " '103',\n",
       " '1048',\n",
       " '105251танк',\n",
       " '108',\n",
       " '108ть',\n",
       " '1099',\n",
       " '10быть',\n",
       " '10го',\n",
       " '10идеальный',\n",
       " '10й',\n",
       " '10летие',\n",
       " '10летний',\n",
       " '10я',\n",
       " '11',\n",
       " '110',\n",
       " '112263',\n",
       " '1127',\n",
       " '1137',\n",
       " '114',\n",
       " '1147',\n",
       " '1148',\n",
       " '1150',\n",
       " '116',\n",
       " '1164',\n",
       " '117',\n",
       " '1185',\n",
       " '11го',\n",
       " '11й',\n",
       " '11летний',\n",
       " '11я',\n",
       " '12',\n",
       " '120',\n",
       " '121',\n",
       " '122',\n",
       " '1235',\n",
       " '125',\n",
       " '127',\n",
       " '1270',\n",
       " '12й',\n",
       " '12летний',\n",
       " '12я',\n",
       " '13',\n",
       " '130',\n",
       " '1300',\n",
       " '1307',\n",
       " '1314',\n",
       " '133',\n",
       " '1346',\n",
       " '1348',\n",
       " '1356',\n",
       " '1395',\n",
       " '13летний',\n",
       " '14',\n",
       " '140',\n",
       " '1408пять',\n",
       " '1409',\n",
       " '1453',\n",
       " '1470ха',\n",
       " '1471',\n",
       " '1499',\n",
       " '14летний',\n",
       " '15',\n",
       " '150',\n",
       " '1500',\n",
       " '1500000',\n",
       " '1511',\n",
       " '1517',\n",
       " '1520',\n",
       " '152мма',\n",
       " '1537',\n",
       " '1541',\n",
       " '1542',\n",
       " '155',\n",
       " '1558',\n",
       " '1580ха',\n",
       " '1590',\n",
       " '15е',\n",
       " '15й',\n",
       " '15летний',\n",
       " '16',\n",
       " '160',\n",
       " '1600',\n",
       " '1606',\n",
       " '160летний',\n",
       " '1612',\n",
       " '1617',\n",
       " '1617м',\n",
       " '1620',\n",
       " '1626',\n",
       " '1630',\n",
       " '165',\n",
       " '1652',\n",
       " '1666',\n",
       " '16671745',\n",
       " '1692',\n",
       " '1699',\n",
       " '16й',\n",
       " '16летний',\n",
       " '17',\n",
       " '170',\n",
       " '1700',\n",
       " '1702',\n",
       " '1709',\n",
       " '1714',\n",
       " '1718',\n",
       " '172',\n",
       " '17221793',\n",
       " '1735ть',\n",
       " '1743',\n",
       " '1749',\n",
       " '17491832',\n",
       " '17502000',\n",
       " '1752',\n",
       " '176',\n",
       " '1760',\n",
       " '17611815',\n",
       " '1773',\n",
       " '17731775',\n",
       " '1775',\n",
       " '17751817',\n",
       " '1778',\n",
       " '17791857',\n",
       " '178',\n",
       " '1781',\n",
       " '1782',\n",
       " '1785',\n",
       " '17891790',\n",
       " '1790',\n",
       " '1791',\n",
       " '1792',\n",
       " '1793',\n",
       " '1795',\n",
       " '1799',\n",
       " '179ть',\n",
       " '17интригующий',\n",
       " '17летний',\n",
       " '18',\n",
       " '180',\n",
       " '18021827',\n",
       " '18021885',\n",
       " '1806',\n",
       " '18091849',\n",
       " '18091852',\n",
       " '180го',\n",
       " '180ть',\n",
       " '1811',\n",
       " '18111812',\n",
       " '1812',\n",
       " '1812м',\n",
       " '1813',\n",
       " '1814',\n",
       " '18161855',\n",
       " '1817',\n",
       " '1818',\n",
       " '18181848',\n",
       " '18181883',\n",
       " '18191876',\n",
       " '18191891',\n",
       " '18201849',\n",
       " '1820ха',\n",
       " '1823',\n",
       " '18241830',\n",
       " '18241895',\n",
       " '1825',\n",
       " '1826',\n",
       " '1828',\n",
       " '1829',\n",
       " '1829год',\n",
       " '1830',\n",
       " '18301893',\n",
       " '1831',\n",
       " '18311901',\n",
       " '18321833',\n",
       " '18321888',\n",
       " '1833',\n",
       " '1835',\n",
       " '1837',\n",
       " '18371839',\n",
       " '18381839',\n",
       " '1839',\n",
       " '184',\n",
       " '1840',\n",
       " '18401841',\n",
       " '18401928',\n",
       " '1841',\n",
       " '1842',\n",
       " '1844',\n",
       " '1845',\n",
       " '1846',\n",
       " '1847',\n",
       " '18471912',\n",
       " '1848',\n",
       " '1848действие',\n",
       " '1849',\n",
       " '18491935',\n",
       " '185',\n",
       " '1850',\n",
       " '1850ха',\n",
       " '18521853',\n",
       " '1853',\n",
       " '18531918',\n",
       " '18531940',\n",
       " '1854',\n",
       " '18541929',\n",
       " '1855',\n",
       " '18551857',\n",
       " '18551888',\n",
       " '18561925',\n",
       " '18561950',\n",
       " '1857',\n",
       " '1858',\n",
       " '18581900',\n",
       " '1859',\n",
       " '18591930',\n",
       " '1860',\n",
       " '18601861',\n",
       " '18601870',\n",
       " '18601870ха',\n",
       " '1860ха',\n",
       " '1861',\n",
       " '1862',\n",
       " '18621911',\n",
       " '1863',\n",
       " '1864',\n",
       " '18651866',\n",
       " '18651936',\n",
       " '18651941',\n",
       " '1866',\n",
       " '1867',\n",
       " '1868',\n",
       " '18681932',\n",
       " '1870',\n",
       " '18701938',\n",
       " '18701953',\n",
       " '1871',\n",
       " '18711872',\n",
       " '18711945',\n",
       " '1873',\n",
       " '1873записка',\n",
       " '1874',\n",
       " '18741946',\n",
       " '1875',\n",
       " '1875го',\n",
       " '1876',\n",
       " '18761916',\n",
       " '18761945',\n",
       " '18771878',\n",
       " '1879',\n",
       " '18791880',\n",
       " '1880',\n",
       " '18801890ха',\n",
       " '1880ха',\n",
       " '1882',\n",
       " '18821949',\n",
       " '1883',\n",
       " '18831884',\n",
       " '18831923',\n",
       " '1884',\n",
       " '1885',\n",
       " '18851967',\n",
       " '1886',\n",
       " '1887',\n",
       " '1888',\n",
       " '18881939',\n",
       " '1889',\n",
       " '18891956',\n",
       " '1889год',\n",
       " '1890',\n",
       " '18901976',\n",
       " '1890ха',\n",
       " '1891',\n",
       " '18911940',\n",
       " '1892',\n",
       " '18921968',\n",
       " '1893',\n",
       " '1894',\n",
       " '1895',\n",
       " '1895м',\n",
       " '1896',\n",
       " '1897',\n",
       " '18981963',\n",
       " '1899',\n",
       " '18го',\n",
       " '18итак',\n",
       " '18летие',\n",
       " '18летний',\n",
       " '18я',\n",
       " '19',\n",
       " '1900',\n",
       " '19001938',\n",
       " '19001944',\n",
       " '19001949',\n",
       " '1900м',\n",
       " '1901',\n",
       " '1902',\n",
       " '1903',\n",
       " '1904',\n",
       " '19041936',\n",
       " '1905',\n",
       " '19051981',\n",
       " '19051984',\n",
       " '1906',\n",
       " '19061985',\n",
       " '1907',\n",
       " '19071982',\n",
       " '1908',\n",
       " '19081909',\n",
       " '19081979',\n",
       " '19081981',\n",
       " '1909',\n",
       " '19091990',\n",
       " '19091995',\n",
       " '1910',\n",
       " '1911',\n",
       " '1912',\n",
       " '19121992',\n",
       " '1913',\n",
       " '1914',\n",
       " '19141935',\n",
       " '1915',\n",
       " '19151986',\n",
       " '1916',\n",
       " '19162002',\n",
       " '19162014',\n",
       " '1916война',\n",
       " '1917',\n",
       " '19171925',\n",
       " '19171933',\n",
       " '19172008',\n",
       " '1917го',\n",
       " '1917ть',\n",
       " '1918',\n",
       " '19181919',\n",
       " '19181921',\n",
       " '19182009',\n",
       " '1919',\n",
       " '19192001',\n",
       " '1919ть',\n",
       " '1920',\n",
       " '19201930ха',\n",
       " '19201986',\n",
       " '19201994',\n",
       " '19201996',\n",
       " '19202012',\n",
       " '192030ха',\n",
       " '1920ха',\n",
       " '1921',\n",
       " '1922',\n",
       " '19221969',\n",
       " '19221994',\n",
       " '19221996',\n",
       " '19222008',\n",
       " '1922го',\n",
       " '1923',\n",
       " '1924',\n",
       " '19241926',\n",
       " '19242019',\n",
       " '1925',\n",
       " '19251991',\n",
       " '1926',\n",
       " '19261929',\n",
       " '1927',\n",
       " '19271929',\n",
       " '19272001',\n",
       " '19272011',\n",
       " '1928',\n",
       " '19281932',\n",
       " '19281937',\n",
       " '19281982',\n",
       " '19282010',\n",
       " '1929',\n",
       " '19291939',\n",
       " '19291974',\n",
       " '19292009',\n",
       " '1930',\n",
       " '19301940ха',\n",
       " '1930ха',\n",
       " '1931',\n",
       " '19311932',\n",
       " '19312015',\n",
       " '1932',\n",
       " '19321933',\n",
       " '1932м',\n",
       " '1933',\n",
       " '19331934',\n",
       " '19332012',\n",
       " '1934',\n",
       " '19341975',\n",
       " '1934го',\n",
       " '1935',\n",
       " '19351937',\n",
       " '19351984',\n",
       " '19352005',\n",
       " '19352012',\n",
       " '1936',\n",
       " '1937',\n",
       " '19371945',\n",
       " '1938',\n",
       " '1939',\n",
       " '19391946',\n",
       " '19391949',\n",
       " '1939го',\n",
       " '1939м',\n",
       " '1940',\n",
       " '19401950',\n",
       " '1940м',\n",
       " '1940ть',\n",
       " '1940ха',\n",
       " '1941',\n",
       " '1941го',\n",
       " '1942',\n",
       " '1942го',\n",
       " '1942м',\n",
       " '1942ть',\n",
       " '1943',\n",
       " '19431945',\n",
       " '1944',\n",
       " '1945',\n",
       " '19451946',\n",
       " '1945го',\n",
       " '1945м',\n",
       " '1946',\n",
       " '1947',\n",
       " '1948',\n",
       " '1948м',\n",
       " '1949',\n",
       " '19491950',\n",
       " '19492009',\n",
       " '1950',\n",
       " '19501960ха',\n",
       " '1950ха',\n",
       " '1951',\n",
       " '1951го',\n",
       " '1952',\n",
       " '19522018',\n",
       " '1953',\n",
       " '1954',\n",
       " '19541960',\n",
       " '1955',\n",
       " '19551977',\n",
       " '1956',\n",
       " '19561957',\n",
       " '19561958',\n",
       " '1956го',\n",
       " '1957',\n",
       " '1958',\n",
       " '19581966',\n",
       " '1959',\n",
       " '1959ть',\n",
       " '1960',\n",
       " '19601970',\n",
       " '19601970ха',\n",
       " '1960х1970ха',\n",
       " '1960х70ха',\n",
       " '1960ха',\n",
       " '1961',\n",
       " '1961год',\n",
       " '1962',\n",
       " '1963',\n",
       " '1963го',\n",
       " '1964',\n",
       " '19641993',\n",
       " '19642018',\n",
       " '1965',\n",
       " '19651969',\n",
       " '19651975',\n",
       " '1966',\n",
       " '1967',\n",
       " '1967го',\n",
       " '1968',\n",
       " '1968го',\n",
       " '1969',\n",
       " '1969м',\n",
       " '1970',\n",
       " '19701980',\n",
       " '1970м',\n",
       " '1970ха',\n",
       " '1970хха',\n",
       " '1971',\n",
       " '19711977',\n",
       " '1972',\n",
       " '1972м',\n",
       " '1973',\n",
       " '1974',\n",
       " '1974м',\n",
       " '1974ть',\n",
       " '1975',\n",
       " '19751976',\n",
       " '1976',\n",
       " '19761978',\n",
       " '1977',\n",
       " '19771979',\n",
       " '1978',\n",
       " '1978м',\n",
       " '1979',\n",
       " '198',\n",
       " '1980',\n",
       " '19801982',\n",
       " '1980м',\n",
       " '1980ха',\n",
       " '1981',\n",
       " '1982',\n",
       " '1983',\n",
       " '1984',\n",
       " '1984м',\n",
       " '1984среди',\n",
       " '1985',\n",
       " '19851987',\n",
       " '1985год',\n",
       " '1985ть',\n",
       " '1986',\n",
       " '1987',\n",
       " '1988',\n",
       " '19881992',\n",
       " '1989',\n",
       " '1990',\n",
       " '1990егерой',\n",
       " '1990ха',\n",
       " '1991',\n",
       " '1992',\n",
       " '1992го',\n",
       " '1993',\n",
       " '1994',\n",
       " '1994го',\n",
       " '1995',\n",
       " '19951999',\n",
       " '1996',\n",
       " '19961999',\n",
       " '1996м',\n",
       " '1997',\n",
       " '1998',\n",
       " '1998ть',\n",
       " '1999',\n",
       " '19992018',\n",
       " '19я',\n",
       " '1второй',\n",
       " '1го',\n",
       " '1е',\n",
       " '1елена',\n",
       " '1ещё',\n",
       " '1женщина',\n",
       " '1й',\n",
       " '1м',\n",
       " '1мрачный',\n",
       " '1му',\n",
       " '1новинка',\n",
       " '1новый',\n",
       " '1по',\n",
       " '1продолжение',\n",
       " '1продумать',\n",
       " '1странный',\n",
       " '1этый',\n",
       " '20',\n",
       " '200',\n",
       " '2000',\n",
       " '2000ха',\n",
       " '2001',\n",
       " '2001м',\n",
       " '2002',\n",
       " '2003',\n",
       " '2004',\n",
       " '2005',\n",
       " '20052012',\n",
       " '2006',\n",
       " '2006м',\n",
       " '2007',\n",
       " '2008',\n",
       " '20081947',\n",
       " '2008лауреат',\n",
       " '2009',\n",
       " '2009м',\n",
       " '200летие',\n",
       " '200летний',\n",
       " '200ть',\n",
       " '201',\n",
       " '2010',\n",
       " '2010год',\n",
       " '2011',\n",
       " '20112012',\n",
       " '20112018',\n",
       " '2011м',\n",
       " '2012',\n",
       " '20122015м',\n",
       " '2013',\n",
       " '2014',\n",
       " '20142015',\n",
       " '2014м',\n",
       " '2015',\n",
       " '2015го',\n",
       " '2016',\n",
       " '2016го',\n",
       " '2016м',\n",
       " '2017',\n",
       " '2017год',\n",
       " '2017м',\n",
       " '2018',\n",
       " '20182019',\n",
       " '2018ть',\n",
       " '2019',\n",
       " '201ть',\n",
       " '2020',\n",
       " '20202021',\n",
       " '2020го',\n",
       " '2020роман',\n",
       " '2020ха',\n",
       " '2021',\n",
       " '2022',\n",
       " '2022от',\n",
       " '2023',\n",
       " '2025',\n",
       " '2025йздесь',\n",
       " '2030ха',\n",
       " '2033',\n",
       " '2034',\n",
       " '2035',\n",
       " '2038',\n",
       " '2042',\n",
       " '2045',\n",
       " '2049',\n",
       " '2050ха',\n",
       " '2082',\n",
       " '2084',\n",
       " '2086ть',\n",
       " '2091973',\n",
       " '20е',\n",
       " '20е30',\n",
       " '20летие',\n",
       " '20летний',\n",
       " '20ть',\n",
       " '20х',\n",
       " '20я',\n",
       " '21',\n",
       " '210',\n",
       " '2111',\n",
       " '2119',\n",
       " '217',\n",
       " '21го',\n",
       " '22',\n",
       " '2202',\n",
       " '221',\n",
       " '221б',\n",
       " '2225',\n",
       " '227',\n",
       " '22й',\n",
       " '22м',\n",
       " '23',\n",
       " '230',\n",
       " '231',\n",
       " '2334год',\n",
       " '236',\n",
       " '23й',\n",
       " '24',\n",
       " '244',\n",
       " '247каково',\n",
       " '25',\n",
       " '250',\n",
       " '2500',\n",
       " '2526',\n",
       " '255',\n",
       " '25летний',\n",
       " '25недельный',\n",
       " '26',\n",
       " '264',\n",
       " '26летний',\n",
       " '27',\n",
       " '2788',\n",
       " '27е',\n",
       " '28',\n",
       " '2814',\n",
       " '29',\n",
       " '2977',\n",
       " '2история',\n",
       " '2октябрь',\n",
       " '2убитый',\n",
       " '2этота',\n",
       " '30',\n",
       " '300',\n",
       " '3000',\n",
       " '30000',\n",
       " '300000',\n",
       " '3011892',\n",
       " '30118922091973',\n",
       " '30е',\n",
       " '30ка',\n",
       " '30летие',\n",
       " '30летний',\n",
       " '30х',\n",
       " '31',\n",
       " '313',\n",
       " '32',\n",
       " '32407',\n",
       " '33',\n",
       " '330',\n",
       " '334го',\n",
       " '33ю',\n",
       " '34',\n",
       " '3445',\n",
       " '347900',\n",
       " '34902',\n",
       " '35',\n",
       " '350',\n",
       " '36',\n",
       " '360',\n",
       " '365',\n",
       " '37',\n",
       " '37й',\n",
       " '38',\n",
       " '39',\n",
       " '395',\n",
       " '39летний',\n",
       " '39м',\n",
       " '3е',\n",
       " '3значить',\n",
       " '3й',\n",
       " '3м',\n",
       " '3переиздание',\n",
       " '3х',\n",
       " '40',\n",
       " '400',\n",
       " '40000',\n",
       " '400летие',\n",
       " '40е',\n",
       " '40й',\n",
       " '40летний',\n",
       " '40х',\n",
       " '41',\n",
       " '41й',\n",
       " '42',\n",
       " '42из',\n",
       " '42м',\n",
       " '43',\n",
       " '4321',\n",
       " '4337',\n",
       " '434',\n",
       " '43го',\n",
       " '44',\n",
       " '45',\n",
       " '450',\n",
       " '451',\n",
       " '455',\n",
       " '45год',\n",
       " '45м',\n",
       " '46',\n",
       " '47',\n",
       " '475',\n",
       " '48',\n",
       " '482тысяча',\n",
       " '4го',\n",
       " '4ереза',\n",
       " '4й',\n",
       " '4м',\n",
       " '4ую',\n",
       " '4х',\n",
       " '50',\n",
       " '500',\n",
       " '5000',\n",
       " '502929',\n",
       " '5060ха',\n",
       " '50е',\n",
       " '50ть',\n",
       " '50х',\n",
       " '51',\n",
       " '510',\n",
       " '52',\n",
       " '53',\n",
       " '535',\n",
       " '54',\n",
       " '540',\n",
       " '55',\n",
       " '56',\n",
       " '57',\n",
       " '58',\n",
       " '59летний',\n",
       " '5год',\n",
       " '5ести',\n",
       " '5й',\n",
       " '5м',\n",
       " '5тигга',\n",
       " '60',\n",
       " '600',\n",
       " '6000',\n",
       " '6070',\n",
       " '60е',\n",
       " '60й',\n",
       " '60х',\n",
       " '610',\n",
       " '622',\n",
       " '623',\n",
       " '63',\n",
       " '64',\n",
       " '657',\n",
       " '66',\n",
       " '67',\n",
       " '67го',\n",
       " '68',\n",
       " '68го',\n",
       " '6го',\n",
       " '6й',\n",
       " '70',\n",
       " '700',\n",
       " '7000',\n",
       " '7019',\n",
       " '7082',\n",
       " '70год',\n",
       " '70е',\n",
       " '70летний',\n",
       " '70х',\n",
       " '70х10032',\n",
       " '72',\n",
       " '75',\n",
       " '750',\n",
       " '7500',\n",
       " '75582',\n",
       " '75летний',\n",
       " '76',\n",
       " '78',\n",
       " '782',\n",
       " '783ть',\n",
       " '78летний',\n",
       " '7е',\n",
       " '7й',\n",
       " '7летний',\n",
       " '7оскар',\n",
       " '80',\n",
       " '800',\n",
       " '8000',\n",
       " '802701',\n",
       " '80е',\n",
       " '80летний',\n",
       " '80м',\n",
       " '80ть',\n",
       " '80х',\n",
       " '81',\n",
       " '82116113129',\n",
       " '84',\n",
       " '842росрус6445',\n",
       " '85',\n",
       " '85летний',\n",
       " '86',\n",
       " '87',\n",
       " '87го',\n",
       " '881год',\n",
       " '89',\n",
       " '8год',\n",
       " '8й',\n",
       " '90',\n",
       " '9000',\n",
       " '90210',\n",
       " '909',\n",
       " '90е',\n",
       " '90летний',\n",
       " '90м',\n",
       " '90х',\n",
       " '91',\n",
       " '910',\n",
       " '92',\n",
       " '926',\n",
       " '93го',\n",
       " '95',\n",
       " '9785171393694балканский',\n",
       " '99',\n",
       " '9995',\n",
       " '9й',\n",
       " '9м',\n",
       " 'corpus',\n",
       " 'likebook',\n",
       " 'nan',\n",
       " 'popcornbooks',\n",
       " 'а380',\n",
       " 'а4',\n",
       " 'ааз',\n",
       " 'аарон',\n",
       " 'аба',\n",
       " 'абажур',\n",
       " 'абакян',\n",
       " 'абалкин',\n",
       " 'аббат',\n",
       " 'аббатство',\n",
       " 'аббревиатура',\n",
       " 'абвер',\n",
       " 'абгарян',\n",
       " 'абдулов',\n",
       " 'абель',\n",
       " 'абеляра',\n",
       " 'абелярый',\n",
       " 'аберкромбить',\n",
       " 'абзац',\n",
       " 'абигэль',\n",
       " 'абиссиния',\n",
       " 'аблеухов',\n",
       " 'абнер',\n",
       " 'абнетта',\n",
       " 'або',\n",
       " 'абог',\n",
       " 'абогиня',\n",
       " 'аболезненный',\n",
       " 'аболиционистский',\n",
       " 'абордаж',\n",
       " 'абордажный',\n",
       " 'абориген',\n",
       " 'аборт',\n",
       " 'абра',\n",
       " 'абрам',\n",
       " 'абрамов',\n",
       " 'абрахам',\n",
       " 'абрахамсон',\n",
       " 'абрек',\n",
       " 'абрикосовый',\n",
       " 'абс',\n",
       " 'абсент',\n",
       " 'абсолют',\n",
       " 'абсолютизм',\n",
       " 'абсолютно',\n",
       " 'абсолютный',\n",
       " 'абсорбция',\n",
       " 'абспремия',\n",
       " 'абстрактный',\n",
       " 'абсурд',\n",
       " 'абсурдизм',\n",
       " 'абсурдистский',\n",
       " 'абсурдность',\n",
       " 'абсурдный',\n",
       " 'абьюз',\n",
       " 'абьюзер',\n",
       " 'абьюзивный',\n",
       " 'абьюзом',\n",
       " 'абьюзэтый',\n",
       " 'абэ',\n",
       " 'ава',\n",
       " 'аваллах',\n",
       " 'авангард',\n",
       " 'авангардистский',\n",
       " 'авангардный',\n",
       " 'аванпост',\n",
       " 'аванс',\n",
       " 'авансом',\n",
       " 'авансцена',\n",
       " 'авансценумазый',\n",
       " 'авантюра',\n",
       " 'авантюризм',\n",
       " 'авантюрист',\n",
       " 'авантюристеинтеллектуал',\n",
       " 'авантюристка',\n",
       " 'авантюристоводиночка',\n",
       " 'авантюрноаллегорический',\n",
       " 'авантюрнолюбовный',\n",
       " 'авантюрномистический',\n",
       " 'авантюрноплутовский',\n",
       " 'авантюрноприключенческий',\n",
       " 'авантюрноромантический',\n",
       " 'авантюрнофантастический',\n",
       " 'авантюрнофилософский',\n",
       " 'авантюрноюмористический',\n",
       " 'авантюрный',\n",
       " 'аварийный',\n",
       " 'аварийнымить',\n",
       " 'авария',\n",
       " 'авас',\n",
       " 'аватар',\n",
       " 'аввакум',\n",
       " 'аввойна',\n",
       " 'авгур',\n",
       " 'авгурлейн',\n",
       " 'август',\n",
       " 'августин',\n",
       " 'августовский',\n",
       " 'авдеево',\n",
       " 'авдий',\n",
       " 'аведь',\n",
       " 'авель',\n",
       " 'авеляоб',\n",
       " 'аверин',\n",
       " 'аверинцев',\n",
       " 'аверченко',\n",
       " 'аверяд',\n",
       " 'авессало',\n",
       " 'аветис',\n",
       " 'аветисович',\n",
       " 'авеярд',\n",
       " 'авиабомба',\n",
       " 'авиазавод',\n",
       " 'авиаинженер',\n",
       " 'авиакатастрофа',\n",
       " 'авиакомпания',\n",
       " 'авиалайнер',\n",
       " 'авиатор',\n",
       " 'авиаторакнига',\n",
       " 'авиаудар',\n",
       " 'авиациейн',\n",
       " 'авиацииночной',\n",
       " ...]"
      ]
     },
     "execution_count": 63,
     "metadata": {},
     "output_type": "execute_result"
    }
   ],
   "source": [
    "cv.get_feature_names()"
   ]
  },
  {
   "cell_type": "code",
   "execution_count": 64,
   "metadata": {},
   "outputs": [
    {
     "data": {
      "text/plain": [
       "45636"
      ]
     },
     "execution_count": 64,
     "metadata": {},
     "output_type": "execute_result"
    }
   ],
   "source": [
    "len(cv.get_feature_names())"
   ]
  },
  {
   "cell_type": "code",
   "execution_count": 65,
   "metadata": {},
   "outputs": [],
   "source": [
    "from sklearn.metrics.pairwise import cosine_similarity"
   ]
  },
  {
   "cell_type": "code",
   "execution_count": 66,
   "metadata": {},
   "outputs": [],
   "source": [
    "similarity = cosine_similarity(vectors)"
   ]
  },
  {
   "cell_type": "code",
   "execution_count": 67,
   "metadata": {},
   "outputs": [
    {
     "data": {
      "text/plain": [
       "array([[1.        , 0.235725  , 0.14896906, ..., 0.        , 0.        ,\n",
       "        0.        ],\n",
       "       [0.235725  , 1.        , 0.13054598, ..., 0.        , 0.        ,\n",
       "        0.        ],\n",
       "       [0.14896906, 0.13054598, 1.        , ..., 0.        , 0.        ,\n",
       "        0.        ],\n",
       "       ...,\n",
       "       [0.        , 0.        , 0.        , ..., 1.        , 1.        ,\n",
       "        1.        ],\n",
       "       [0.        , 0.        , 0.        , ..., 1.        , 1.        ,\n",
       "        1.        ],\n",
       "       [0.        , 0.        , 0.        , ..., 1.        , 1.        ,\n",
       "        1.        ]])"
      ]
     },
     "execution_count": 67,
     "metadata": {},
     "output_type": "execute_result"
    }
   ],
   "source": [
    "similarity"
   ]
  },
  {
   "cell_type": "code",
   "execution_count": 68,
   "metadata": {},
   "outputs": [
    {
     "data": {
      "text/plain": [
       "array([1.        , 0.235725  , 0.14896906, ..., 0.        , 0.        ,\n",
       "       0.        ])"
      ]
     },
     "execution_count": 68,
     "metadata": {},
     "output_type": "execute_result"
    }
   ],
   "source": [
    "similarity[0]"
   ]
  },
  {
   "cell_type": "code",
   "execution_count": 69,
   "metadata": {},
   "outputs": [
    {
     "data": {
      "text/plain": [
       "numpy.ndarray"
      ]
     },
     "execution_count": 69,
     "metadata": {},
     "output_type": "execute_result"
    }
   ],
   "source": [
    "type(similarity)"
   ]
  },
  {
   "cell_type": "code",
   "execution_count": 70,
   "metadata": {},
   "outputs": [
    {
     "ename": "TypeError",
     "evalue": "'Int64Index' object is not callable",
     "output_type": "error",
     "traceback": [
      "\u001b[1;31m---------------------------------------------------------------------------\u001b[0m",
      "\u001b[1;31mTypeError\u001b[0m                                 Traceback (most recent call last)",
      "\u001b[1;32m<ipython-input-70-b80401ed8a9e>\u001b[0m in \u001b[0;36m<module>\u001b[1;34m\u001b[0m\n\u001b[1;32m----> 1\u001b[1;33m \u001b[0mlist\u001b[0m\u001b[1;33m(\u001b[0m\u001b[0mzip\u001b[0m\u001b[1;33m(\u001b[0m\u001b[0mlist\u001b[0m\u001b[1;33m(\u001b[0m\u001b[0mrange\u001b[0m\u001b[1;33m(\u001b[0m\u001b[0mlen\u001b[0m\u001b[1;33m(\u001b[0m\u001b[0msimilarity\u001b[0m\u001b[1;33m[\u001b[0m\u001b[1;36m0\u001b[0m\u001b[1;33m]\u001b[0m\u001b[1;33m.\u001b[0m\u001b[0mtolist\u001b[0m\u001b[1;33m(\u001b[0m\u001b[1;33m)\u001b[0m\u001b[1;33m)\u001b[0m\u001b[1;33m)\u001b[0m\u001b[1;33m)\u001b[0m\u001b[1;33m,\u001b[0m\u001b[0msimilarity\u001b[0m\u001b[1;33m[\u001b[0m\u001b[1;36m0\u001b[0m\u001b[1;33m]\u001b[0m\u001b[1;33m.\u001b[0m\u001b[0mtolist\u001b[0m\u001b[1;33m(\u001b[0m\u001b[1;33m)\u001b[0m\u001b[1;33m)\u001b[0m\u001b[1;33m)\u001b[0m\u001b[1;33m\u001b[0m\u001b[1;33m\u001b[0m\u001b[0m\n\u001b[0m",
      "\u001b[1;31mTypeError\u001b[0m: 'Int64Index' object is not callable"
     ]
    }
   ],
   "source": [
    "list(zip(list(range(len(similarity[0].tolist()))),similarity[0].tolist()))"
   ]
  },
  {
   "cell_type": "code",
   "execution_count": 72,
   "metadata": {},
   "outputs": [
    {
     "data": {
      "text/plain": [
       "[1, 2, 3, 4, 5, 6, 7, 8, 9]"
      ]
     },
     "execution_count": 72,
     "metadata": {},
     "output_type": "execute_result"
    }
   ],
   "source": [
    "a = [1,2,3,4,5,6,7,8,9]\n",
    "a"
   ]
  },
  {
   "cell_type": "code",
   "execution_count": 73,
   "metadata": {},
   "outputs": [
    {
     "data": {
      "text/plain": [
       "<enumerate at 0x28462c00a40>"
      ]
     },
     "execution_count": 73,
     "metadata": {},
     "output_type": "execute_result"
    }
   ],
   "source": [
    "enumerate(a)"
   ]
  },
  {
   "cell_type": "code",
   "execution_count": 74,
   "metadata": {},
   "outputs": [
    {
     "ename": "TypeError",
     "evalue": "'Int64Index' object is not callable",
     "output_type": "error",
     "traceback": [
      "\u001b[1;31m---------------------------------------------------------------------------\u001b[0m",
      "\u001b[1;31mTypeError\u001b[0m                                 Traceback (most recent call last)",
      "\u001b[1;32m<ipython-input-74-11ae6a31c36f>\u001b[0m in \u001b[0;36m<module>\u001b[1;34m\u001b[0m\n\u001b[1;32m----> 1\u001b[1;33m \u001b[0mlist\u001b[0m\u001b[1;33m(\u001b[0m\u001b[0menumerate\u001b[0m\u001b[1;33m(\u001b[0m\u001b[0ma\u001b[0m\u001b[1;33m)\u001b[0m\u001b[1;33m)\u001b[0m\u001b[1;33m\u001b[0m\u001b[1;33m\u001b[0m\u001b[0m\n\u001b[0m",
      "\u001b[1;31mTypeError\u001b[0m: 'Int64Index' object is not callable"
     ]
    }
   ],
   "source": [
    "list(enumerate(a))"
   ]
  },
  {
   "cell_type": "code",
   "execution_count": null,
   "metadata": {},
   "outputs": [],
   "source": []
  },
  {
   "cell_type": "code",
   "execution_count": null,
   "metadata": {},
   "outputs": [],
   "source": []
  },
  {
   "cell_type": "code",
   "execution_count": null,
   "metadata": {},
   "outputs": [],
   "source": [
    "list(enumerate(similarity[0]))"
   ]
  },
  {
   "cell_type": "code",
   "execution_count": null,
   "metadata": {},
   "outputs": [],
   "source": [
    "sorted(similarity[0],reverse=True)"
   ]
  },
  {
   "cell_type": "code",
   "execution_count": null,
   "metadata": {},
   "outputs": [],
   "source": [
    "opop = data[data['name'] == 'Благословение небожителей. Том 2 '].index[0]"
   ]
  },
  {
   "cell_type": "code",
   "execution_count": null,
   "metadata": {},
   "outputs": [],
   "source": [
    "def recommend(rusbook):\n",
    "    rusbook_index = str(data[data['name'] == rusbook].index[0])\n",
    "    distances = similarity[rusbook_index]\n",
    "    rusbook_list = sorted(list(enumerate(distances)),reverse=True,key=lambda x:x[1])[1:6]\n",
    "    \n",
    "    for i in rusbook_list:\n",
    "        print(data.iloc[i[0]].name)"
   ]
  },
  {
   "cell_type": "code",
   "execution_count": null,
   "metadata": {},
   "outputs": [],
   "source": [
    "recommend('Благословение небожителей. Том 2 ')"
   ]
  },
  {
   "cell_type": "code",
   "execution_count": null,
   "metadata": {},
   "outputs": [],
   "source": [
    "import pickle"
   ]
  },
  {
   "cell_type": "code",
   "execution_count": null,
   "metadata": {},
   "outputs": [],
   "source": [
    "pickle.dump(data.to_dict(),open('books_dict.pkl','wb'))"
   ]
  },
  {
   "cell_type": "code",
   "execution_count": null,
   "metadata": {},
   "outputs": [],
   "source": [
    "pickle.dump(similarity,open('similarity.pkl','wb'))"
   ]
  },
  {
   "cell_type": "code",
   "execution_count": null,
   "metadata": {},
   "outputs": [],
   "source": [
    "data['name'].values"
   ]
  },
  {
   "cell_type": "code",
   "execution_count": null,
   "metadata": {},
   "outputs": [],
   "source": [
    "dickdata = data.to_dict()"
   ]
  },
  {
   "cell_type": "code",
   "execution_count": null,
   "metadata": {},
   "outputs": [],
   "source": [
    "datata = pd.DataFrame(dickdata)"
   ]
  },
  {
   "cell_type": "code",
   "execution_count": null,
   "metadata": {},
   "outputs": [],
   "source": [
    "datata"
   ]
  },
  {
   "cell_type": "code",
   "execution_count": null,
   "metadata": {},
   "outputs": [],
   "source": [
    "data.iloc[5112].name"
   ]
  },
  {
   "cell_type": "code",
   "execution_count": null,
   "metadata": {},
   "outputs": [],
   "source": [
    "data.name[6205]"
   ]
  },
  {
   "cell_type": "code",
   "execution_count": null,
   "metadata": {},
   "outputs": [],
   "source": [
    "data.cove[5]"
   ]
  },
  {
   "cell_type": "code",
   "execution_count": null,
   "metadata": {},
   "outputs": [],
   "source": [
    "data.cove[5][6:]"
   ]
  },
  {
   "cell_type": "code",
   "execution_count": null,
   "metadata": {},
   "outputs": [],
   "source": [
    "data.cove[5][:11] == 'https:https'"
   ]
  },
  {
   "cell_type": "code",
   "execution_count": null,
   "metadata": {},
   "outputs": [],
   "source": [
    "Image(url= data.cove[4])"
   ]
  },
  {
   "cell_type": "code",
   "execution_count": null,
   "metadata": {},
   "outputs": [],
   "source": [
    "\"https://cdn.book24.ru/v2/ASE000000000863181/COVER/cover13d__w410.jpg\" "
   ]
  },
  {
   "cell_type": "code",
   "execution_count": null,
   "metadata": {},
   "outputs": [],
   "source": [
    "datata.index[99]"
   ]
  },
  {
   "cell_type": "code",
   "execution_count": null,
   "metadata": {},
   "outputs": [],
   "source": [
    "datata.index[]"
   ]
  },
  {
   "cell_type": "code",
   "execution_count": null,
   "metadata": {},
   "outputs": [],
   "source": [
    "select_ind = datata[datata['name'] == 'Тень и кость '].index[0]"
   ]
  },
  {
   "cell_type": "code",
   "execution_count": null,
   "metadata": {},
   "outputs": [],
   "source": [
    "datata.cove[select_ind]"
   ]
  },
  {
   "cell_type": "code",
   "execution_count": null,
   "metadata": {},
   "outputs": [],
   "source": []
  }
 ],
 "metadata": {
  "kernelspec": {
   "display_name": "Python 3 (ipykernel)",
   "language": "python",
   "name": "python3"
  },
  "language_info": {
   "codemirror_mode": {
    "name": "ipython",
    "version": 3
   },
   "file_extension": ".py",
   "mimetype": "text/x-python",
   "name": "python",
   "nbconvert_exporter": "python",
   "pygments_lexer": "ipython3",
   "version": "3.9.12"
  }
 },
 "nbformat": 4,
 "nbformat_minor": 4
}
