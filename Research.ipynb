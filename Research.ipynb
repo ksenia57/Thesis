{
 "cells": [
  {
   "cell_type": "code",
   "execution_count": 3,
   "metadata": {},
   "outputs": [],
   "source": [
    "import numpy as np\n",
    "import pandas as pd\n",
    "import seaborn as sns\n",
    "import matplotlib.pyplot as plt\n",
    "%matplotlib inline \n",
    "sns.set(style=\"ticks\")\n",
    "import re\n",
    "import nltk\n",
    "import dask.array as da"
   ]
  },
  {
   "cell_type": "code",
   "execution_count": 4,
   "metadata": {},
   "outputs": [],
   "source": [
    "from sklearn.feature_extraction.text import CountVectorizer\n",
    "cv = CountVectorizer(encoding='utf-8')"
   ]
  },
  {
   "cell_type": "markdown",
   "metadata": {},
   "source": [
    "## Векторизация текста на основе модели \"мешка слов\""
   ]
  },
  {
   "cell_type": "markdown",
   "metadata": {},
   "source": [
    "Векторизация текста поддерживается библиотекой [scikit-learn](https://scikit-learn.org/stable/modules/feature_extraction.html#text-feature-extraction)"
   ]
  },
  {
   "cell_type": "markdown",
   "metadata": {},
   "source": [
    "### Использование класса [CountVectorizer](https://scikit-learn.org/stable/modules/generated/sklearn.feature_extraction.text.CountVectorizer.html)"
   ]
  },
  {
   "cell_type": "code",
   "execution_count": 46,
   "metadata": {},
   "outputs": [],
   "source": [
    "data = pd.read_csv('data/tags.csv')"
   ]
  },
  {
   "cell_type": "code",
   "execution_count": 47,
   "metadata": {},
   "outputs": [
    {
     "data": {
      "text/html": [
       "<div>\n",
       "<style scoped>\n",
       "    .dataframe tbody tr th:only-of-type {\n",
       "        vertical-align: middle;\n",
       "    }\n",
       "\n",
       "    .dataframe tbody tr th {\n",
       "        vertical-align: top;\n",
       "    }\n",
       "\n",
       "    .dataframe thead th {\n",
       "        text-align: right;\n",
       "    }\n",
       "</style>\n",
       "<table border=\"1\" class=\"dataframe\">\n",
       "  <thead>\n",
       "    <tr style=\"text-align: right;\">\n",
       "      <th></th>\n",
       "      <th>name</th>\n",
       "      <th>tags</th>\n",
       "    </tr>\n",
       "  </thead>\n",
       "  <tbody>\n",
       "    <tr>\n",
       "      <th>0</th>\n",
       "      <td>Благословение небожителей. Том 2</td>\n",
       "      <td>все в эт мир имет счет и удач и невезен бед пр...</td>\n",
       "    </tr>\n",
       "    <tr>\n",
       "      <th>1</th>\n",
       "      <td>Благословение небожителей. Том 1</td>\n",
       "      <td>в незапамятн врем си лянут быт наследн принц г...</td>\n",
       "    </tr>\n",
       "    <tr>\n",
       "      <th>2</th>\n",
       "      <td>Лето в пионерском галстуке</td>\n",
       "      <td>юр возвраща в пионерск лагер сво юност спуст д...</td>\n",
       "    </tr>\n",
       "    <tr>\n",
       "      <th>3</th>\n",
       "      <td>Электрошок. Внезапно</td>\n",
       "      <td>нов книг от автор культов цикл древн наслед и ...</td>\n",
       "    </tr>\n",
       "    <tr>\n",
       "      <th>4</th>\n",
       "      <td>Билли Саммерс</td>\n",
       "      <td>нов увлекательн рома от автор культов бестселл...</td>\n",
       "    </tr>\n",
       "  </tbody>\n",
       "</table>\n",
       "</div>"
      ],
      "text/plain": [
       "                                name  \\\n",
       "0  Благословение небожителей. Том 2    \n",
       "1  Благословение небожителей. Том 1    \n",
       "2        Лето в пионерском галстуке    \n",
       "3              Электрошок. Внезапно    \n",
       "4                     Билли Саммерс    \n",
       "\n",
       "                                                tags  \n",
       "0  все в эт мир имет счет и удач и невезен бед пр...  \n",
       "1  в незапамятн врем си лянут быт наследн принц г...  \n",
       "2  юр возвраща в пионерск лагер сво юност спуст д...  \n",
       "3  нов книг от автор культов цикл древн наслед и ...  \n",
       "4  нов увлекательн рома от автор культов бестселл...  "
      ]
     },
     "execution_count": 47,
     "metadata": {},
     "output_type": "execute_result"
    }
   ],
   "source": [
    "data.head()"
   ]
  },
  {
   "cell_type": "markdown",
   "metadata": {},
   "source": [
    "Подсчитывает количество слов словаря, входящих в данный текст."
   ]
  },
  {
   "cell_type": "code",
   "execution_count": 48,
   "metadata": {},
   "outputs": [
    {
     "name": "stdout",
     "output_type": "stream",
     "text": [
      "Количество сформированных признаков - 40132\n"
     ]
    }
   ],
   "source": [
    "cv.fit(data['tags'])\n",
    "corpusVocab = cv.vocabulary_\n",
    "print('Количество сформированных признаков - {}'.format(len(corpusVocab)))"
   ]
  },
  {
   "cell_type": "code",
   "execution_count": 49,
   "metadata": {},
   "outputs": [
    {
     "name": "stdout",
     "output_type": "stream",
     "text": [
      "мир=18083\n",
      "имет=11807\n",
      "счет=33625\n",
      "удач=35436\n",
      "невезен=19819\n",
      "бед=1917\n",
      "преследова=26493\n",
      "си=31002\n",
      "лян=16811\n"
     ]
    }
   ],
   "source": [
    "for i in list(corpusVocab)[1:10]:\n",
    "    print('{}={}'.format(i, corpusVocab[i]))"
   ]
  },
  {
   "cell_type": "code",
   "execution_count": 9,
   "metadata": {},
   "outputs": [],
   "source": [
    "vectors = cv.fit_transform(data['tags'].values.astype('U'))"
   ]
  },
  {
   "cell_type": "code",
   "execution_count": 10,
   "metadata": {},
   "outputs": [
    {
     "data": {
      "text/plain": [
       "<9070x46222 sparse matrix of type '<class 'numpy.int64'>'\n",
       "\twith 602058 stored elements in Compressed Sparse Row format>"
      ]
     },
     "execution_count": 10,
     "metadata": {},
     "output_type": "execute_result"
    }
   ],
   "source": [
    "vectors"
   ]
  },
  {
   "cell_type": "code",
   "execution_count": 11,
   "metadata": {},
   "outputs": [
    {
     "data": {
      "text/plain": [
       "(9070, 46222)"
      ]
     },
     "execution_count": 11,
     "metadata": {},
     "output_type": "execute_result"
    }
   ],
   "source": [
    "vectors.shape"
   ]
  },
  {
   "cell_type": "code",
   "execution_count": 12,
   "metadata": {},
   "outputs": [
    {
     "data": {
      "text/plain": [
       "matrix([[0, 0, 0, ..., 0, 0, 0],\n",
       "        [0, 0, 0, ..., 0, 0, 0],\n",
       "        [0, 0, 0, ..., 0, 0, 0],\n",
       "        ...,\n",
       "        [0, 0, 0, ..., 0, 0, 0],\n",
       "        [0, 0, 0, ..., 0, 0, 0],\n",
       "        [0, 0, 0, ..., 0, 0, 0]], dtype=int64)"
      ]
     },
     "execution_count": 12,
     "metadata": {},
     "output_type": "execute_result"
    }
   ],
   "source": [
    "vectors.todense()"
   ]
  },
  {
   "cell_type": "code",
   "execution_count": 13,
   "metadata": {},
   "outputs": [
    {
     "data": {
      "text/plain": [
       "[1, 1, 1, 1, 1, 1, 1, 1, 1, 1]"
      ]
     },
     "execution_count": 13,
     "metadata": {},
     "output_type": "execute_result"
    }
   ],
   "source": [
    "# Непустые значения нулевой строки\n",
    "[i for i in vectors.todense()[0].getA1() if i>0][0:10]"
   ]
  },
  {
   "cell_type": "code",
   "execution_count": 14,
   "metadata": {},
   "outputs": [
    {
     "name": "stderr",
     "output_type": "stream",
     "text": [
      "C:\\Users\\kenia\\anaconda3\\lib\\site-packages\\sklearn\\utils\\deprecation.py:87: FutureWarning: Function get_feature_names is deprecated; get_feature_names is deprecated in 1.0 and will be removed in 1.2. Please use get_feature_names_out instead.\n",
      "  warnings.warn(msg, category=FutureWarning)\n"
     ]
    },
    {
     "data": {
      "text/plain": [
       "['непродолжительный',\n",
       " 'непрожитый',\n",
       " 'непроизвольно',\n",
       " 'непроизвольный',\n",
       " 'непройти',\n",
       " 'непролазный',\n",
       " 'непроницаемый',\n",
       " 'непростительный',\n",
       " 'непросто',\n",
       " 'непростой',\n",
       " 'непротиворечивый',\n",
       " 'непроходимый',\n",
       " 'непроходить',\n",
       " 'непрочность',\n",
       " 'непрочный',\n",
       " 'непрочь',\n",
       " 'непрошенный',\n",
       " 'непрошеный',\n",
       " 'непрощённый',\n",
       " 'нептун']"
      ]
     },
     "execution_count": 14,
     "metadata": {},
     "output_type": "execute_result"
    }
   ],
   "source": [
    "cv.get_feature_names()[23567:23587]"
   ]
  },
  {
   "cell_type": "markdown",
   "metadata": {},
   "source": [
    "### CountVectorizer with spacy"
   ]
  },
  {
   "cell_type": "code",
   "execution_count": 5,
   "metadata": {},
   "outputs": [
    {
     "data": {
      "text/html": [
       "<div>\n",
       "<style scoped>\n",
       "    .dataframe tbody tr th:only-of-type {\n",
       "        vertical-align: middle;\n",
       "    }\n",
       "\n",
       "    .dataframe tbody tr th {\n",
       "        vertical-align: top;\n",
       "    }\n",
       "\n",
       "    .dataframe thead th {\n",
       "        text-align: right;\n",
       "    }\n",
       "</style>\n",
       "<table border=\"1\" class=\"dataframe\">\n",
       "  <thead>\n",
       "    <tr style=\"text-align: right;\">\n",
       "      <th></th>\n",
       "      <th>name</th>\n",
       "      <th>tags</th>\n",
       "    </tr>\n",
       "  </thead>\n",
       "  <tbody>\n",
       "    <tr>\n",
       "      <th>0</th>\n",
       "      <td>Благословение небожителей. Том 2</td>\n",
       "      <td>ве мир имет счет удач невезен бед преследова с...</td>\n",
       "    </tr>\n",
       "    <tr>\n",
       "      <th>1</th>\n",
       "      <td>Благословение небожителей. Том 1</td>\n",
       "      <td>незапамятн врем се лян наследн принц государст...</td>\n",
       "    </tr>\n",
       "    <tr>\n",
       "      <th>2</th>\n",
       "      <td>Лето в пионерском галстуке</td>\n",
       "      <td>юр возвраща пионерск лагер сво юност спуст два...</td>\n",
       "    </tr>\n",
       "    <tr>\n",
       "      <th>3</th>\n",
       "      <td>Электрошок. Внезапно</td>\n",
       "      <td>нов книг автор культов цикл древн наслед кажд ...</td>\n",
       "    </tr>\n",
       "    <tr>\n",
       "      <th>4</th>\n",
       "      <td>Билли Саммерс</td>\n",
       "      <td>нов увлекательн рома автор культов бестселлер ...</td>\n",
       "    </tr>\n",
       "  </tbody>\n",
       "</table>\n",
       "</div>"
      ],
      "text/plain": [
       "                                name  \\\n",
       "0  Благословение небожителей. Том 2    \n",
       "1  Благословение небожителей. Том 1    \n",
       "2        Лето в пионерском галстуке    \n",
       "3              Электрошок. Внезапно    \n",
       "4                     Билли Саммерс    \n",
       "\n",
       "                                                tags  \n",
       "0  ве мир имет счет удач невезен бед преследова с...  \n",
       "1  незапамятн врем се лян наследн принц государст...  \n",
       "2  юр возвраща пионерск лагер сво юност спуст два...  \n",
       "3  нов книг автор культов цикл древн наслед кажд ...  \n",
       "4  нов увлекательн рома автор культов бестселлер ...  "
      ]
     },
     "execution_count": 5,
     "metadata": {},
     "output_type": "execute_result"
    }
   ],
   "source": [
    "data = pd.read_csv('data/spacylem.csv')\n",
    "data.head()"
   ]
  },
  {
   "cell_type": "code",
   "execution_count": 6,
   "metadata": {},
   "outputs": [
    {
     "name": "stdout",
     "output_type": "stream",
     "text": [
      "Количество сформированных признаков - 42206\n"
     ]
    }
   ],
   "source": [
    "cv.fit(data['tags'])\n",
    "corpusVocab = cv.vocabulary_\n",
    "print('Количество сформированных признаков - {}'.format(len(corpusVocab)))"
   ]
  },
  {
   "cell_type": "code",
   "execution_count": 7,
   "metadata": {},
   "outputs": [
    {
     "name": "stdout",
     "output_type": "stream",
     "text": [
      "мир=18862\n",
      "имет=12423\n",
      "счет=35449\n",
      "удач=37344\n",
      "невезен=20692\n",
      "бед=1969\n",
      "преследова=27851\n",
      "се=32295\n",
      "лян=17557\n"
     ]
    }
   ],
   "source": [
    "for i in list(corpusVocab)[1:10]:\n",
    "    print('{}={}'.format(i, corpusVocab[i]))"
   ]
  },
  {
   "cell_type": "code",
   "execution_count": 8,
   "metadata": {},
   "outputs": [
    {
     "data": {
      "text/plain": [
       "[1, 1, 1, 1, 1, 1, 1, 1, 1, 1]"
      ]
     },
     "execution_count": 8,
     "metadata": {},
     "output_type": "execute_result"
    }
   ],
   "source": [
    "vectors = cv.fit_transform(data['tags'].values.astype('U'))\n",
    "# Непустые значения нулевой строки\n",
    "[i for i in vectors.todense()[0].getA1() if i>0][0:10]"
   ]
  },
  {
   "cell_type": "code",
   "execution_count": 9,
   "metadata": {},
   "outputs": [
    {
     "name": "stderr",
     "output_type": "stream",
     "text": [
      "C:\\Users\\kenia\\anaconda3\\lib\\site-packages\\sklearn\\utils\\deprecation.py:87: FutureWarning: Function get_feature_names is deprecated; get_feature_names is deprecated in 1.0 and will be removed in 1.2. Please use get_feature_names_out instead.\n",
      "  warnings.warn(msg, category=FutureWarning)\n"
     ]
    },
    {
     "data": {
      "text/plain": [
       "['пышет',\n",
       " 'пышк',\n",
       " 'пышн',\n",
       " 'пышногруд',\n",
       " 'пышност',\n",
       " 'пьедеста',\n",
       " 'пьедр',\n",
       " 'пьемонт',\n",
       " 'пьер',\n",
       " 'пьес',\n",
       " 'пьеск',\n",
       " 'пьет',\n",
       " 'пьетр',\n",
       " 'пьех',\n",
       " 'пьюджет',\n",
       " 'пьюз',\n",
       " 'пьюзон',\n",
       " 'пьюзоскандинавск',\n",
       " 'пьян',\n",
       " 'пьянеет']"
      ]
     },
     "execution_count": 9,
     "metadata": {},
     "output_type": "execute_result"
    }
   ],
   "source": [
    "cv.get_feature_names()[29443:29463]"
   ]
  },
  {
   "cell_type": "markdown",
   "metadata": {},
   "source": [
    "### Cosine_similarity"
   ]
  },
  {
   "cell_type": "code",
   "execution_count": 10,
   "metadata": {},
   "outputs": [],
   "source": [
    "from sklearn.metrics.pairwise import cosine_similarity"
   ]
  },
  {
   "cell_type": "code",
   "execution_count": 11,
   "metadata": {},
   "outputs": [
    {
     "name": "stdout",
     "output_type": "stream",
     "text": [
      "CPU times: total: 3.84 s\n",
      "Wall time: 7.42 s\n"
     ]
    }
   ],
   "source": [
    "%%time\n",
    "similarity = cosine_similarity(vectors)"
   ]
  },
  {
   "cell_type": "code",
   "execution_count": 12,
   "metadata": {},
   "outputs": [
    {
     "data": {
      "text/plain": [
       "array([[1.        , 0.2699865 , 0.11253787, ..., 0.02007239, 0.12501206,\n",
       "        0.        ],\n",
       "       [0.2699865 , 1.        , 0.12909055, ..., 0.01465211, 0.1520904 ,\n",
       "        0.05695718],\n",
       "       [0.11253787, 0.12909055, 1.        , ..., 0.        , 0.1467153 ,\n",
       "        0.04578685],\n",
       "       ...,\n",
       "       [0.02007239, 0.01465211, 0.        , ..., 1.        , 0.        ,\n",
       "        0.        ],\n",
       "       [0.12501206, 0.1520904 , 0.1467153 , ..., 0.        , 1.        ,\n",
       "        0.11867817],\n",
       "       [0.        , 0.05695718, 0.04578685, ..., 0.        , 0.11867817,\n",
       "        1.        ]])"
      ]
     },
     "execution_count": 12,
     "metadata": {},
     "output_type": "execute_result"
    }
   ],
   "source": [
    "similarity"
   ]
  },
  {
   "cell_type": "code",
   "execution_count": 13,
   "metadata": {},
   "outputs": [
    {
     "data": {
      "text/plain": [
       "array([1.        , 0.2699865 , 0.11253787, ..., 0.02007239, 0.12501206,\n",
       "       0.        ])"
      ]
     },
     "execution_count": 13,
     "metadata": {},
     "output_type": "execute_result"
    }
   ],
   "source": [
    "similarity[0]"
   ]
  },
  {
   "cell_type": "code",
   "execution_count": 14,
   "metadata": {},
   "outputs": [
    {
     "data": {
      "text/plain": [
       "numpy.ndarray"
      ]
     },
     "execution_count": 14,
     "metadata": {},
     "output_type": "execute_result"
    }
   ],
   "source": [
    "type(similarity)"
   ]
  },
  {
   "cell_type": "code",
   "execution_count": 15,
   "metadata": {},
   "outputs": [
    {
     "data": {
      "text/plain": [
       "[(0, 1.0000000000000013),\n",
       " (1, 0.26998650101241567),\n",
       " (2, 0.11253786588843415),\n",
       " (3, 0.03901371573204352),\n",
       " (4, 0.05579717762694858),\n",
       " (5, 0.02136869215853441),\n",
       " (6, 0.10148754557830483),\n",
       " (7, 0.09363291775690445),\n",
       " (8, 0.02758686295341227),\n",
       " (9, 0.10655033689112361)]"
      ]
     },
     "execution_count": 15,
     "metadata": {},
     "output_type": "execute_result"
    }
   ],
   "source": [
    "list(enumerate(similarity[0]))[:10]"
   ]
  },
  {
   "cell_type": "code",
   "execution_count": 17,
   "metadata": {},
   "outputs": [
    {
     "data": {
      "text/plain": [
       "[1.0000000000000013,\n",
       " 0.26998650101241567,\n",
       " 0.22635466595164022,\n",
       " 0.20516372588964538,\n",
       " 0.20307285509118606,\n",
       " 0.19726137691880566,\n",
       " 0.19726137691880563,\n",
       " 0.19715227490949905,\n",
       " 0.19633468379247637,\n",
       " 0.1932566996956512]"
      ]
     },
     "execution_count": 17,
     "metadata": {},
     "output_type": "execute_result"
    }
   ],
   "source": [
    "sorted(similarity[0],reverse=True)[:10]"
   ]
  },
  {
   "cell_type": "code",
   "execution_count": 18,
   "metadata": {},
   "outputs": [],
   "source": [
    "def recommend(rusbook):\n",
    "    rusbook_index = data[data['name'] == rusbook].index[0]\n",
    "    distances = similarity[rusbook_index]\n",
    "    rusbook_list = sorted(list(enumerate(distances)),reverse=True,key=lambda x:x[1])[1:11]\n",
    "    \n",
    "    for i in rusbook_list:\n",
    "       print(data.name[data.iloc[i[0]].name])"
   ]
  },
  {
   "cell_type": "code",
   "execution_count": 19,
   "metadata": {},
   "outputs": [
    {
     "name": "stdout",
     "output_type": "stream",
     "text": [
      "Благословение небожителей. Том 1 \n",
      "Золотое сердце Вавилона \n",
      "Забыть нельзя вспомнить \n",
      "В Калифорнии морозов не бывает \n",
      "Дивергент \n",
      "Долорес Клейборн \n",
      "Король говорит! История о преодолении, о долге и чести, о лидерстве, об иерархии и о настоящей дружбе \n",
      "Против ветра, мимо облаков \n",
      "В академию за хозяином Драконьего края \n",
      "Через год в это же время \n"
     ]
    }
   ],
   "source": [
    "recommend('Благословение небожителей. Том 2 ')"
   ]
  },
  {
   "cell_type": "code",
   "execution_count": 20,
   "metadata": {},
   "outputs": [
    {
     "name": "stdout",
     "output_type": "stream",
     "text": [
      "Штурм и буря \n",
      "Серафина \n",
      "Нежно \n",
      "Шёпот магии \n",
      "Счастье рядом \n",
      "Эхо между нами \n",
      "Братья Карилло. Обретая надежду \n",
      "Песня черного ангела \n",
      "Химеры картинной галереи \n",
      "Зов темной крови \n"
     ]
    }
   ],
   "source": [
    "recommend('Тень и кость ')"
   ]
  },
  {
   "cell_type": "code",
   "execution_count": 25,
   "metadata": {},
   "outputs": [
    {
     "name": "stdout",
     "output_type": "stream",
     "text": [
      "Тень и кость \n",
      "Штурм и буря \n",
      "Мой Рагнарек \n",
      "Крах и восход \n",
      "Изоморф. Вор \n",
      "Король шрамов \n",
      "Когда восходит тень \n",
      "Продажное королевство \n",
      "Тени сгущаются \n",
      "Украденное время \n"
     ]
    }
   ],
   "source": [
    "recommend('Шестерка воронов ')"
   ]
  },
  {
   "cell_type": "code",
   "execution_count": 33,
   "metadata": {},
   "outputs": [
    {
     "name": "stdout",
     "output_type": "stream",
     "text": [
      "Темница тихого ангела. Желать невозможного \n",
      "Обломов \n",
      "Исповедь. О жизни \n",
      "Любовь без права на ошибку \n",
      "Вот я \n",
      "Война и мир. I-II \n",
      "Война и мир. III-IV \n",
      "Пока еще здесь \n",
      "Перед восходом солнца \n",
      "Портрет Дориана Грея \n"
     ]
    }
   ],
   "source": [
    "recommend('Герой нашего времени ')"
   ]
  },
  {
   "cell_type": "markdown",
   "metadata": {},
   "source": [
    "### Выгружаем"
   ]
  },
  {
   "cell_type": "code",
   "execution_count": 37,
   "metadata": {},
   "outputs": [],
   "source": [
    "import pickle"
   ]
  },
  {
   "cell_type": "code",
   "execution_count": 38,
   "metadata": {},
   "outputs": [],
   "source": [
    "pickle.dump(similarity,open('similarity.pkl','wb'))"
   ]
  },
  {
   "cell_type": "code",
   "execution_count": 41,
   "metadata": {},
   "outputs": [],
   "source": [
    "pickle.dump(data.to_dict(),open('books_dict.pkl','wb'))"
   ]
  }
 ],
 "metadata": {
  "kernelspec": {
   "display_name": "Python 3 (ipykernel)",
   "language": "python",
   "name": "python3"
  },
  "language_info": {
   "codemirror_mode": {
    "name": "ipython",
    "version": 3
   },
   "file_extension": ".py",
   "mimetype": "text/x-python",
   "name": "python",
   "nbconvert_exporter": "python",
   "pygments_lexer": "ipython3",
   "version": "3.9.12"
  }
 },
 "nbformat": 4,
 "nbformat_minor": 4
}
